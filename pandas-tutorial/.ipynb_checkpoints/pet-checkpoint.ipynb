{
 "cells": [
  {
   "cell_type": "code",
   "execution_count": 1,
   "id": "7170b281",
   "metadata": {},
   "outputs": [],
   "source": [
    "import pandas as pd\n",
    "import numpy as np"
   ]
  },
  {
   "cell_type": "code",
   "execution_count": null,
   "id": "c0b7f9d1",
   "metadata": {},
   "outputs": [],
   "source": [
    "#2. 판다스 버전 출력\n",
    "pd.__version__"
   ]
  },
  {
   "cell_type": "code",
   "execution_count": null,
   "id": "7cee5b9f",
   "metadata": {},
   "outputs": [],
   "source": [
    "#3. 판다스 라이브러리 버전 정보 모두 출력\n",
    "pd.show_versions()"
   ]
  },
  {
   "cell_type": "code",
   "execution_count": null,
   "id": "b010e038",
   "metadata": {},
   "outputs": [],
   "source": [
    "#4. 주어진 값으로 DF생성,출력\n",
    "data = {'animal': ['cat', 'cat', 'snake', 'dog', 'dog', 'cat', 'snake', 'cat', 'dog', 'dog'],\n",
    "        'age': [2.5, 3, 0.5, np.nan, 5, 2, 4.5, np.nan, 7, 3],\n",
    "        'visits': [1, 3, 2, 3, 2, 3, 1, 1, 2, 1],\n",
    "        'priority': ['yes', 'yes', 'no', 'yes', 'no', 'no', 'no', 'yes', 'no', 'no']}\n",
    "labels = ['a', 'b', 'c', 'd', 'e', 'f', 'g', 'h', 'i', 'j']\n",
    "\n",
    "df = pd.DataFrame(data, index=labels)\n",
    "df"
   ]
  },
  {
   "cell_type": "code",
   "execution_count": null,
   "id": "c0e56340",
   "metadata": {},
   "outputs": [],
   "source": [
    "#5. 내부 정보 출력\n",
    "df.describe()"
   ]
  },
  {
   "cell_type": "code",
   "execution_count": null,
   "id": "678462c9",
   "metadata": {},
   "outputs": [],
   "source": [
    "#6. 상위 3열 출력\n",
    "df.head(3)"
   ]
  },
  {
   "cell_type": "code",
   "execution_count": null,
   "id": "12d787cd",
   "metadata": {},
   "outputs": [],
   "source": [
    "#7. animal, age 컬럼 출력\n",
    "df[['animal', 'age']]"
   ]
  },
  {
   "cell_type": "code",
   "execution_count": null,
   "id": "9e921d2a",
   "metadata": {},
   "outputs": [],
   "source": [
    "#8. 3,4,8번 행의 animal,age값 출력\n",
    "df.loc[df.index[[2, 3, 7]], ['animal', 'age']]"
   ]
  },
  {
   "cell_type": "code",
   "execution_count": null,
   "id": "28c6fc55",
   "metadata": {},
   "outputs": [],
   "source": [
    "#9. visit컬럼에서 2초과하는 값 출력\n",
    "df[df['visits'] > 2]"
   ]
  },
  {
   "cell_type": "code",
   "execution_count": null,
   "id": "f37d5037",
   "metadata": {},
   "outputs": [],
   "source": [
    "#10. age에서 NaN값 출력\n",
    "df[df['age'].isnull()]"
   ]
  },
  {
   "cell_type": "code",
   "execution_count": null,
   "id": "7f73eee9",
   "metadata": {},
   "outputs": [],
   "source": [
    "#11. age가 3살 미만인 cat 값 출력\n",
    "df[(df['animal'] == 'cat') & (df['age'] < 3)]"
   ]
  },
  {
   "cell_type": "code",
   "execution_count": null,
   "id": "69251678",
   "metadata": {},
   "outputs": [],
   "source": [
    "#12. age가 2살 이상 4살 미만인 값 출력\n",
    "df[df['age'].between(2, 4)]"
   ]
  },
  {
   "cell_type": "code",
   "execution_count": null,
   "id": "88eb73ed",
   "metadata": {},
   "outputs": [],
   "source": [
    "#13. f행의 age를 1.5로 변경\n",
    "df.loc['f', 'age'] = 1.5\n",
    "df"
   ]
  },
  {
   "cell_type": "code",
   "execution_count": null,
   "id": "06275a4e",
   "metadata": {},
   "outputs": [],
   "source": [
    "#14. visit 의 합 출력\n",
    "df['visits'].sum()"
   ]
  },
  {
   "cell_type": "code",
   "execution_count": null,
   "id": "2f5d20d1",
   "metadata": {},
   "outputs": [],
   "source": [
    "#15. 동물별로 age 평균값 출력\n",
    "df.groupby('animal')['age'].mean()"
   ]
  },
  {
   "cell_type": "code",
   "execution_count": null,
   "id": "258029fb",
   "metadata": {},
   "outputs": [],
   "source": [
    "#16-1. k행추가, age=5.5, animal=dog, visits=2, priority=no\n",
    "df.loc['k'] = ['dog', 5.5, '2', 'no']\n",
    "df"
   ]
  },
  {
   "cell_type": "code",
   "execution_count": null,
   "id": "8925dba6",
   "metadata": {},
   "outputs": [],
   "source": [
    "#16-2. k행삭제\n",
    "df = df.drop('k')\n",
    "df"
   ]
  },
  {
   "cell_type": "code",
   "execution_count": null,
   "id": "d75d4cec",
   "metadata": {},
   "outputs": [],
   "source": [
    "#17. 동물종류별 수량 출력\n",
    "df['animal'].value_counts()"
   ]
  },
  {
   "cell_type": "code",
   "execution_count": null,
   "id": "03bc0535",
   "metadata": {},
   "outputs": [],
   "source": [
    "#18. age는 내림차순, visits는 오름차순 정렬\n",
    "df.sort_values(by=['age', 'visits'], ascending=[False, True])"
   ]
  },
  {
   "cell_type": "code",
   "execution_count": null,
   "id": "7341bcd3",
   "metadata": {},
   "outputs": [],
   "source": [
    "#19. priority의 yes를 True, no를 False로 맵핑후 출력\n",
    "df['priority'] = df['priority'].map({'yes': True, 'no': False})\n",
    "df"
   ]
  },
  {
   "cell_type": "code",
   "execution_count": null,
   "id": "3021b246",
   "metadata": {},
   "outputs": [],
   "source": [
    "#20. snake를 python 으로 변경\n",
    "df['animal'] = df['animal'].replace('snake', 'python')\n",
    "df"
   ]
  },
  {
   "cell_type": "code",
   "execution_count": null,
   "id": "5e1be671",
   "metadata": {},
   "outputs": [],
   "source": [
    "#21. \n",
    "df.pivot_table(index='animal', columns='visits', values='age', aggfunc='mean')"
   ]
  },
  {
   "cell_type": "code",
   "execution_count": null,
   "id": "c944a43e",
   "metadata": {},
   "outputs": [],
   "source": [
    "# 22. 다음 객체에서 키값 A와 중복된 값이 제거된 1,2,3,4,5,6,7 이 출려되는 코드를 작성\n",
    "df = pd.DataFrame({'A': [1, 2, 2, 3, 4, 5, 5, 5, 6, 7, 7]})\n",
    "df.loc[df['A'].shift() != df['A']]"
   ]
  },
  {
   "cell_type": "code",
   "execution_count": null,
   "id": "3cbc5b0d",
   "metadata": {},
   "outputs": [],
   "source": [
    "# 23. 다음 객체에서 행의 각 요소에서 행의 평균을 뺀 값을 출력\n",
    "df = pd.DataFrame(np.random.random(size=(5, 3)))\n",
    "df.sub(df.mean(axis=1), axis=0)"
   ]
  },
  {
   "cell_type": "code",
   "execution_count": null,
   "id": "0f5e144b",
   "metadata": {},
   "outputs": [],
   "source": [
    "#24. 다음 객체에서 가장 작은 합계를 가진 숫자열의 열을 출력\n",
    "df = pd.DataFrame(np.random.random(size=(5, 10)), columns=list('abcdefghij'))\n",
    "df.sum().idxmin()"
   ]
  },
  {
   "cell_type": "code",
   "execution_count": null,
   "id": "703d8191",
   "metadata": {},
   "outputs": [],
   "source": [
    "# 25. 다음 객체에서 중복된 값이 없는 유니크한 열의 카운트 출력(중복되지 않은 행은 몇 개..)\n",
    "df = pd.DataFrame(np.random.randint(0, 2, size=(10, 3)))\n",
    "len(df.drop_duplicates(keep=False))"
   ]
  },
  {
   "cell_type": "code",
   "execution_count": null,
   "id": "ccfd4732",
   "metadata": {},
   "outputs": [],
   "source": [
    "# 26. 객체의 각 행에 대해 세번째 NaN 값이 들어 있는 열을 찾으시오. 일련의 열 레이블을 반환해야 합니다.\n",
    "# 답은 e, c, d, h, d 입니다.\n",
    "nan = np.nan\n",
    "data = [[0.04,  nan,  nan, 0.25,  nan, 0.43, 0.71, 0.51,  nan,  nan],\n",
    "        [ nan,  nan,  nan, 0.04, 0.76,  nan,  nan, 0.67, 0.76, 0.16],\n",
    "        [ nan,  nan, 0.5 ,  nan, 0.31, 0.4 ,  nan,  nan, 0.24, 0.01],\n",
    "        [0.49,  nan,  nan, 0.62, 0.73, 0.26, 0.85,  nan,  nan,  nan],\n",
    "        [ nan,  nan, 0.41,  nan, 0.05,  nan, 0.61,  nan, 0.48, 0.68]]\n",
    "columns = list('abcdefghij')\n",
    "df = pd.DataFrame(data, columns=columns)\n",
    "(df.isnull().cumsum(axis=1) == 3).idxmax(axis=1)"
   ]
  },
  {
   "cell_type": "code",
   "execution_count": null,
   "id": "82fbefa5",
   "metadata": {},
   "outputs": [],
   "source": [
    "# 27. For each group, find the sum of the three greatest values.\n",
    "# 출력 결과는 \n",
    "#  grps\n",
    "#   a    409\n",
    "#   b    156\n",
    "#   c    345\n",
    "# 이렇게 나옵니다.\n",
    "df = pd.DataFrame({'grps': list('aaabbcaabcccbbc'), \n",
    "                   'vals': [12,345,3,1,45,14,4,52,54,23,235,21,57,3,87]})\n",
    "df.groupby('grps')['vals'].nlargest(3).sum(level=0)"
   ]
  },
  {
   "cell_type": "code",
   "execution_count": null,
   "id": "8e9932a9",
   "metadata": {},
   "outputs": [],
   "source": [
    "# 28 다음 객체를 list 로 변환하시오\n",
    "df = pd.DataFrame({'A':[1,2,3], 'B':[4,5,6]})\n",
    "df.values.tolist()"
   ]
  },
  {
   "cell_type": "code",
   "execution_count": null,
   "id": "63982763",
   "metadata": {
    "scrolled": true
   },
   "outputs": [],
   "source": [
    "# 29 다음 객체를 dictionary 로 변환하시오\n",
    "df = pd.DataFrame({'A':[1,2,3], 'B':[4,5,6]})\n",
    "df.to_dict()"
   ]
  },
  {
   "cell_type": "code",
   "execution_count": null,
   "id": "7d6b5289",
   "metadata": {},
   "outputs": [],
   "source": [
    "# 30 다음 객체를 customer_id 를 인덱스로하고 product_code 를 컬럼으로, purchare_amount 를 값으로, 재구성하시오\n",
    "df = pd.DataFrame({\"customer_id\":['kim','lee','park','song','yoon','kang','tak','ryu','jang'],\n",
    "               \"product_code\":['com','phone','tv','com','phone','tv','com','phone','tv'],\n",
    "               \"grade\":['A','A','A','A','A','A','B','B','B'],\n",
    "               \"purchase_amount\":[30,10,0,40,15,30,0,0,10]})\n",
    "df = pd.pivot_table(df, index='customer_id', columns='product_code', values='purchase_amount')\n",
    "df"
   ]
  },
  {
   "cell_type": "code",
   "execution_count": null,
   "id": "65d3638d",
   "metadata": {},
   "outputs": [],
   "source": [
    "# 31 30번 객체를 \n",
    "#    customer_id 와 grade 를 인덱스로하고 product_code 를 컬럼으로, \n",
    "#    purchare_amount 를 값으로, 재구성하시오\n",
    "df = pd.DataFrame({\"customer_id\":['kim','lee','park','song','yoon','kang','tak','ryu','jang'],\n",
    "               \"product_code\":['com','phone','tv','com','phone','tv','com','phone','tv'],\n",
    "               \"grade\":['A','A','A','A','A','A','B','B','B'],\n",
    "               \"purchase_amount\":[30,10,0,40,15,30,0,0,10]})\n",
    "df = pd.pivot_table(df, index=['customer_id', 'grade'], columns='product_code', values='purchase_amount')\n",
    "df"
   ]
  },
  {
   "cell_type": "code",
   "execution_count": 11,
   "id": "59c4f34b",
   "metadata": {},
   "outputs": [
    {
     "data": {
      "text/html": [
       "<div>\n",
       "<style scoped>\n",
       "    .dataframe tbody tr th:only-of-type {\n",
       "        vertical-align: middle;\n",
       "    }\n",
       "\n",
       "    .dataframe tbody tr th {\n",
       "        vertical-align: top;\n",
       "    }\n",
       "\n",
       "    .dataframe thead th {\n",
       "        text-align: right;\n",
       "    }\n",
       "</style>\n",
       "<table border=\"1\" class=\"dataframe\">\n",
       "  <thead>\n",
       "    <tr style=\"text-align: right;\">\n",
       "      <th></th>\n",
       "      <th>customer_id</th>\n",
       "      <th>product_code</th>\n",
       "      <th>purchase_code</th>\n",
       "      <th>purchase_value</th>\n",
       "    </tr>\n",
       "  </thead>\n",
       "  <tbody>\n",
       "    <tr>\n",
       "      <th>0</th>\n",
       "      <td>kim</td>\n",
       "      <td>com</td>\n",
       "      <td>variable</td>\n",
       "      <td>purchase_count</td>\n",
       "    </tr>\n",
       "    <tr>\n",
       "      <th>1</th>\n",
       "      <td>kim</td>\n",
       "      <td>phone</td>\n",
       "      <td>variable</td>\n",
       "      <td>purchase_count</td>\n",
       "    </tr>\n",
       "    <tr>\n",
       "      <th>2</th>\n",
       "      <td>lee</td>\n",
       "      <td>tv</td>\n",
       "      <td>variable</td>\n",
       "      <td>purchase_count</td>\n",
       "    </tr>\n",
       "    <tr>\n",
       "      <th>3</th>\n",
       "      <td>lee</td>\n",
       "      <td>tab</td>\n",
       "      <td>variable</td>\n",
       "      <td>purchase_count</td>\n",
       "    </tr>\n",
       "    <tr>\n",
       "      <th>4</th>\n",
       "      <td>kim</td>\n",
       "      <td>com</td>\n",
       "      <td>variable</td>\n",
       "      <td>purchase_amount</td>\n",
       "    </tr>\n",
       "    <tr>\n",
       "      <th>5</th>\n",
       "      <td>kim</td>\n",
       "      <td>phone</td>\n",
       "      <td>variable</td>\n",
       "      <td>purchase_amount</td>\n",
       "    </tr>\n",
       "    <tr>\n",
       "      <th>6</th>\n",
       "      <td>lee</td>\n",
       "      <td>tv</td>\n",
       "      <td>variable</td>\n",
       "      <td>purchase_amount</td>\n",
       "    </tr>\n",
       "    <tr>\n",
       "      <th>7</th>\n",
       "      <td>lee</td>\n",
       "      <td>tab</td>\n",
       "      <td>variable</td>\n",
       "      <td>purchase_amount</td>\n",
       "    </tr>\n",
       "    <tr>\n",
       "      <th>8</th>\n",
       "      <td>kim</td>\n",
       "      <td>com</td>\n",
       "      <td>value</td>\n",
       "      <td>1</td>\n",
       "    </tr>\n",
       "    <tr>\n",
       "      <th>9</th>\n",
       "      <td>kim</td>\n",
       "      <td>phone</td>\n",
       "      <td>value</td>\n",
       "      <td>2</td>\n",
       "    </tr>\n",
       "    <tr>\n",
       "      <th>10</th>\n",
       "      <td>lee</td>\n",
       "      <td>tv</td>\n",
       "      <td>value</td>\n",
       "      <td>3</td>\n",
       "    </tr>\n",
       "    <tr>\n",
       "      <th>11</th>\n",
       "      <td>lee</td>\n",
       "      <td>tab</td>\n",
       "      <td>value</td>\n",
       "      <td>4</td>\n",
       "    </tr>\n",
       "    <tr>\n",
       "      <th>12</th>\n",
       "      <td>kim</td>\n",
       "      <td>com</td>\n",
       "      <td>value</td>\n",
       "      <td>100</td>\n",
       "    </tr>\n",
       "    <tr>\n",
       "      <th>13</th>\n",
       "      <td>kim</td>\n",
       "      <td>phone</td>\n",
       "      <td>value</td>\n",
       "      <td>200</td>\n",
       "    </tr>\n",
       "    <tr>\n",
       "      <th>14</th>\n",
       "      <td>lee</td>\n",
       "      <td>tv</td>\n",
       "      <td>value</td>\n",
       "      <td>300</td>\n",
       "    </tr>\n",
       "    <tr>\n",
       "      <th>15</th>\n",
       "      <td>lee</td>\n",
       "      <td>tab</td>\n",
       "      <td>value</td>\n",
       "      <td>400</td>\n",
       "    </tr>\n",
       "  </tbody>\n",
       "</table>\n",
       "</div>"
      ],
      "text/plain": [
       "   customer_id product_code purchase_code   purchase_value\n",
       "0          kim          com      variable   purchase_count\n",
       "1          kim        phone      variable   purchase_count\n",
       "2          lee           tv      variable   purchase_count\n",
       "3          lee          tab      variable   purchase_count\n",
       "4          kim          com      variable  purchase_amount\n",
       "5          kim        phone      variable  purchase_amount\n",
       "6          lee           tv      variable  purchase_amount\n",
       "7          lee          tab      variable  purchase_amount\n",
       "8          kim          com         value                1\n",
       "9          kim        phone         value                2\n",
       "10         lee           tv         value                3\n",
       "11         lee          tab         value                4\n",
       "12         kim          com         value              100\n",
       "13         kim        phone         value              200\n",
       "14         lee           tv         value              300\n",
       "15         lee          tab         value              400"
      ]
     },
     "execution_count": 11,
     "metadata": {},
     "output_type": "execute_result"
    }
   ],
   "source": [
    "'''\n",
    "melt() 는 ID 변수를 기준으로 원래 데이터셋에 있던 여러개의 칼럼 이름을\n",
    "'variable' 칼럼에 위에서 아래로 길게 쌓아놓고,\n",
    "'value' 칼럼에 ID와 variable에 해당하는 값을\n",
    "넣어주는 식으로 데이터를 재구조화\n",
    "'''\n",
    "df = pd.DataFrame({\"customer_id\":['kim','kim','lee','lee'],\n",
    "               \"product_code\":['com','phone','tv','tab'],\n",
    "               \"purchase_count\":[1,2,3,4],\n",
    "               \"purchase_amount\":[100,200,300,400]})\n",
    "\n",
    "\n",
    "# (1) pd.melt(data, id_vars=['id1', 'id2', ...]) 를 사용한 데이터 재구조화\n",
    "df = pd.melt(df, id_vars=['customer_id', 'product_code'])\n",
    "\n",
    "\n",
    "# (2) pd.melt() 의 variable 이름, value 이름 부여하기 : var_name, value_name\n",
    "df = pd.melt(df, id_vars=['customer_id', 'product_code'], var_name='purchase_code',\n",
    "            value_name='purchase_value')\n",
    "df"
   ]
  },
  {
   "cell_type": "code",
   "execution_count": 10,
   "id": "c5d1e326",
   "metadata": {},
   "outputs": [
    {
     "data": {
      "text/html": [
       "<div>\n",
       "<style scoped>\n",
       "    .dataframe tbody tr th:only-of-type {\n",
       "        vertical-align: middle;\n",
       "    }\n",
       "\n",
       "    .dataframe tbody tr th {\n",
       "        vertical-align: top;\n",
       "    }\n",
       "\n",
       "    .dataframe thead tr th {\n",
       "        text-align: left;\n",
       "    }\n",
       "\n",
       "    .dataframe thead tr:last-of-type th {\n",
       "        text-align: right;\n",
       "    }\n",
       "</style>\n",
       "<table border=\"1\" class=\"dataframe\">\n",
       "  <thead>\n",
       "    <tr>\n",
       "      <th>1st_semester_grade</th>\n",
       "      <th>A</th>\n",
       "      <th colspan=\"2\" halign=\"left\">B</th>\n",
       "    </tr>\n",
       "    <tr>\n",
       "      <th>2nd_semester_grade</th>\n",
       "      <th>D</th>\n",
       "      <th>C</th>\n",
       "      <th>D</th>\n",
       "    </tr>\n",
       "    <tr>\n",
       "      <th>student_ID</th>\n",
       "      <th></th>\n",
       "      <th></th>\n",
       "      <th></th>\n",
       "    </tr>\n",
       "  </thead>\n",
       "  <tbody>\n",
       "    <tr>\n",
       "      <th>kim</th>\n",
       "      <td>0.5</td>\n",
       "      <td>0.000000</td>\n",
       "      <td>0.000000</td>\n",
       "    </tr>\n",
       "    <tr>\n",
       "      <th>lee</th>\n",
       "      <td>0.0</td>\n",
       "      <td>0.333333</td>\n",
       "      <td>0.000000</td>\n",
       "    </tr>\n",
       "    <tr>\n",
       "      <th>park</th>\n",
       "      <td>0.0</td>\n",
       "      <td>0.000000</td>\n",
       "      <td>0.166667</td>\n",
       "    </tr>\n",
       "  </tbody>\n",
       "</table>\n",
       "</div>"
      ],
      "text/plain": [
       "1st_semester_grade    A         B          \n",
       "2nd_semester_grade    D         C         D\n",
       "student_ID                                 \n",
       "kim                 0.5  0.000000  0.000000\n",
       "lee                 0.0  0.333333  0.000000\n",
       "park                0.0  0.000000  0.166667"
      ]
     },
     "execution_count": 10,
     "metadata": {},
     "output_type": "execute_result"
    }
   ],
   "source": [
    "'''\n",
    "pd.crosstab()\n",
    "범주형 변수로 되어있는 요인(factors)별로 교차분석(cross tabulations) 해서,\n",
    "행, 열 요인 기준 별로 빈도를 세어서 도수분포표(frequency table),\n",
    "교차표(contingency table) 를 생성한다\n",
    "\n",
    "# 범주형 변수란 고유한 값이나 범주 수가 제한된 변수(예: 성별 또는 종교)이다.\n",
    "# 교차분석(cross-tabulation analysis)은 '범주형'으로 구성된 자료들 간의 연관관계를 확인하기 위해\n",
    "   교차표를 만들어 관계를 확인하는 분석 방법이다.\n",
    "'''\n",
    "df = pd.DataFrame({\"student_ID\" :[\"kim\",\"kim\",\"kim\",\"lee\",\"lee\",\"park\"],\n",
    "                   \"1st_semester_grade\":[\"A\",\"A\",\"A\",\"B\",\"B\",\"B\"],\n",
    "                   \"2nd_semester_grade\":[\"D\",\"D\",\"D\",\"C\",\"C\",\"D\"]})\n",
    "\n",
    "# (1) 교차표(contingency table, frequency table) 만들기 : pd.crosstab(index, columns)\n",
    "\n",
    "\n",
    "# (2) Multi-index, Multi-level로 교차표 만들기 : pd.crosstab([id1, id2], [col1, col2])\n",
    "df2 = pd.crosstab(index = df['student_ID'], \n",
    "                 columns = [df['1st_semester_grade'], df['2nd_semester_grade']])\n",
    "\n",
    "# (3) 교차표의 행 이름, 열 이름 부여 : pd.crosstab(rownames=['xx'], colnames=['aa'])\n",
    "\n",
    "\n",
    "# (4) 교차표의 행 합, 열 합 추가하기 : pd.crosstab(margins=True)\n",
    "df4 = pd.crosstab(index = df['student_ID'], \n",
    "                 columns = [df['1st_semester_grade'], df['2nd_semester_grade']],\n",
    "                 margins=True)\n",
    "\n",
    "# (5) 구성비율로 교차표 만들기 : pd.crosstab(normalize=True)\n",
    "df5 = pd.crosstab(index = df['student_ID'], \n",
    "                 columns = [df['1st_semester_grade'], df['2nd_semester_grade']],\n",
    "                 normalize=True)\n",
    "df5\n"
   ]
  }
 ],
 "metadata": {
  "kernelspec": {
   "display_name": "Python 3",
   "language": "python",
   "name": "python3"
  },
  "language_info": {
   "codemirror_mode": {
    "name": "ipython",
    "version": 3
   },
   "file_extension": ".py",
   "mimetype": "text/x-python",
   "name": "python",
   "nbconvert_exporter": "python",
   "pygments_lexer": "ipython3",
   "version": "3.8.8"
  }
 },
 "nbformat": 4,
 "nbformat_minor": 5
}
